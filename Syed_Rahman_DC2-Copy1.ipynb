{
 "cells": [
  {
   "cell_type": "markdown",
   "metadata": {},
   "source": [
    "We want to understand whether company XYZ should sell the product at the higher(\\$59) or lower price(\\$39). The first question, we will try to answer is whether there is a significant effect of the price on conversion. This will also help us understand what factors increase conversion rate. While doing this we will also dig into how this can translate into revenues."
   ]
  },
  {
   "cell_type": "code",
   "execution_count": 75,
   "metadata": {},
   "outputs": [],
   "source": [
    "%matplotlib inline\n",
    "import numpy as np\n",
    "import pandas as pd\n",
    "import os \n",
    "os.chdir('/Users/syedrahman/Documents/Summer2017/Insight/ABtesting')\n",
    "import matplotlib.pyplot as plt \n",
    "plt.style.use('ggplot')\n",
    "import seaborn as sns\n",
    "import datetime as dt\n",
    "from datetime import datetime\n",
    "from sklearn.linear_model import LogisticRegression\n",
    "from sklearn.linear_model import LogisticRegressionCV\n",
    "from sklearn.linear_model import LinearRegression\n",
    "from sklearn.model_selection import GridSearchCV\n",
    "from sklearn.cross_validation import KFold\n",
    "import holidays\n",
    "us_holidays = holidays.UnitedStates() \n",
    "import statsmodels.discrete.discrete_model as sm\n",
    "from scipy.stats import norm"
   ]
  },
  {
   "cell_type": "code",
   "execution_count": 76,
   "metadata": {
    "collapsed": true
   },
   "outputs": [],
   "source": [
    "test_data = pd.read_csv('test_results.csv')"
   ]
  },
  {
   "cell_type": "code",
   "execution_count": 77,
   "metadata": {
    "collapsed": true
   },
   "outputs": [],
   "source": [
    "user_data = pd.read_csv('user_table.csv')"
   ]
  },
  {
   "cell_type": "code",
   "execution_count": 78,
   "metadata": {},
   "outputs": [
    {
     "data": {
      "text/plain": [
       "(316800, 8)"
      ]
     },
     "execution_count": 78,
     "metadata": {},
     "output_type": "execute_result"
    }
   ],
   "source": [
    "test_data.shape"
   ]
  },
  {
   "cell_type": "code",
   "execution_count": 79,
   "metadata": {},
   "outputs": [
    {
     "data": {
      "text/plain": [
       "(275616, 5)"
      ]
     },
     "execution_count": 79,
     "metadata": {},
     "output_type": "execute_result"
    }
   ],
   "source": [
    "user_data.shape"
   ]
  },
  {
   "cell_type": "markdown",
   "metadata": {},
   "source": [
    "Had trouble getting the model to run, so I left out user information for the time being."
   ]
  },
  {
   "cell_type": "code",
   "execution_count": 80,
   "metadata": {
    "collapsed": true
   },
   "outputs": [],
   "source": [
    "#data = test_data.merge(user_data, how = 'left', on = 'user_id')\n",
    "data = test_data"
   ]
  },
  {
   "cell_type": "markdown",
   "metadata": {},
   "source": [
    "First we check for any null values"
   ]
  },
  {
   "cell_type": "code",
   "execution_count": 81,
   "metadata": {},
   "outputs": [
    {
     "data": {
      "text/plain": [
       "(316800, 8)"
      ]
     },
     "execution_count": 81,
     "metadata": {},
     "output_type": "execute_result"
    }
   ],
   "source": [
    "data.shape"
   ]
  },
  {
   "cell_type": "code",
   "execution_count": 82,
   "metadata": {},
   "outputs": [
    {
     "data": {
      "text/plain": [
       "user_id             0\n",
       "timestamp           0\n",
       "source              0\n",
       "device              0\n",
       "operative_system    0\n",
       "test                0\n",
       "price               0\n",
       "converted           0\n",
       "dtype: int64"
      ]
     },
     "execution_count": 82,
     "metadata": {},
     "output_type": "execute_result"
    }
   ],
   "source": [
    "pd.isnull(data).apply(sum, axis = 0)"
   ]
  },
  {
   "cell_type": "code",
   "execution_count": 83,
   "metadata": {},
   "outputs": [
    {
     "data": {
      "text/plain": [
       "user_id             0\n",
       "timestamp           0\n",
       "source              0\n",
       "device              0\n",
       "operative_system    0\n",
       "test                0\n",
       "price               0\n",
       "converted           0\n",
       "dtype: int64"
      ]
     },
     "execution_count": 83,
     "metadata": {},
     "output_type": "execute_result"
    }
   ],
   "source": [
    "pd.isnull(test_data).apply(sum, axis = 0)"
   ]
  },
  {
   "cell_type": "markdown",
   "metadata": {},
   "source": [
    "Looks like a lot of the users_id's in the test set is not in the user_data. We will try several different approaches here. The first is to discard the rows where we don't have location information. If location proves to be useful, we can stop there. Or we can impute data based on the other data points. Finally, if location doesn't prove important, we can just focus on the test_data. Let's look at some plots first to see if the data is encoded properly. "
   ]
  },
  {
   "cell_type": "code",
   "execution_count": 84,
   "metadata": {},
   "outputs": [
    {
     "data": {
      "image/png": "[encoded data removed]",
      "text/plain": [
       "<matplotlib.figure.Figure at 0x12760ccf8>"
      ]
     },
     "metadata": {},
     "output_type": "display_data"
    }
   ],
   "source": [
    "ax = sns.regplot(x=\"price\", y=\"test\", data=data)"
   ]
  },
  {
   "cell_type": "markdown",
   "metadata": {},
   "source": [
    "Seems like some point in the test have prices of 39, while some points in control have prices of 59. We have to discard these mislabeled points."
   ]
  },
  {
   "cell_type": "code",
   "execution_count": 85,
   "metadata": {
    "collapsed": true
   },
   "outputs": [],
   "source": [
    "cleaned_data = data[(data['test']==1) & (data['price']==59) | (data['test']==0) & (data['price']==39)]"
   ]
  },
  {
   "cell_type": "code",
   "execution_count": 86,
   "metadata": {
    "collapsed": true
   },
   "outputs": [],
   "source": [
    "cleaned_data_dropna = cleaned_data.dropna(axis=0)"
   ]
  },
  {
   "cell_type": "code",
   "execution_count": 87,
   "metadata": {},
   "outputs": [
    {
     "data": {
      "text/plain": [
       "<matplotlib.axes._subplots.AxesSubplot at 0x11b77fef0>"
      ]
     },
     "execution_count": 87,
     "metadata": {},
     "output_type": "execute_result"
    },
    {
     "data": {
      "image/png": "[encoded data removed]",
      "text/plain": [
       "<matplotlib.figure.Figure at 0x12eb9fa58>"
      ]
     },
     "metadata": {},
     "output_type": "display_data"
    }
   ],
   "source": [
    "sns.barplot(x = 'test', y= 'converted', data = cleaned_data_dropna)"
   ]
  },
  {
   "cell_type": "markdown",
   "metadata": {},
   "source": [
    "Seems like the conversion is higher in the control group, so the increased price led to lower conversions. Seems to make sense. But we need to make sure, this was significant. In addition, these are only marginal effects. We will dig further into this later. "
   ]
  },
  {
   "cell_type": "code",
   "execution_count": 88,
   "metadata": {},
   "outputs": [
    {
     "data": {
      "text/plain": [
       "<matplotlib.axes._subplots.AxesSubplot at 0x10dde60f0>"
      ]
     },
     "execution_count": 88,
     "metadata": {},
     "output_type": "execute_result"
    },
    {
     "data": {
      "image/png": "[encoded data removed]",
      "text/plain": [
       "<matplotlib.figure.Figure at 0x11960a978>"
      ]
     },
     "metadata": {},
     "output_type": "display_data"
    }
   ],
   "source": [
    "sns.barplot(x = 'converted', y= 'source', data = cleaned_data_dropna)"
   ]
  },
  {
   "cell_type": "markdown",
   "metadata": {},
   "source": [
    "It's quite clear that friends referrals seems to have the largest effects on converted."
   ]
  },
  {
   "cell_type": "code",
   "execution_count": 89,
   "metadata": {
    "scrolled": false
   },
   "outputs": [
    {
     "data": {
      "text/plain": [
       "<matplotlib.axes._subplots.AxesSubplot at 0x119809b70>"
      ]
     },
     "execution_count": 89,
     "metadata": {},
     "output_type": "execute_result"
    },
    {
     "data": {
      "image/png": "[encoded data removed]",
      "text/plain": [
       "<matplotlib.figure.Figure at 0x11bbccf28>"
      ]
     },
     "metadata": {},
     "output_type": "display_data"
    }
   ],
   "source": [
    "sns.barplot(x = 'converted', y= 'device', data = cleaned_data_dropna)"
   ]
  },
  {
   "cell_type": "markdown",
   "metadata": {},
   "source": [
    "Not much difference in terms of device, but we should remember that these are marginal effects."
   ]
  },
  {
   "cell_type": "code",
   "execution_count": 90,
   "metadata": {},
   "outputs": [
    {
     "data": {
      "text/plain": [
       "<matplotlib.axes._subplots.AxesSubplot at 0x1196ad0b8>"
      ]
     },
     "execution_count": 90,
     "metadata": {},
     "output_type": "execute_result"
    },
    {
     "data": {
      "image/png": "[encoded data removed]",
      "text/plain": [
       "<matplotlib.figure.Figure at 0x119662b38>"
      ]
     },
     "metadata": {},
     "output_type": "display_data"
    }
   ],
   "source": [
    "sns.barplot(x = 'converted', y= 'operative_system', data = cleaned_data_dropna)"
   ]
  },
  {
   "cell_type": "markdown",
   "metadata": {},
   "source": [
    "Also seems like MACs are most likely to convert, while linux's are least likely."
   ]
  },
  {
   "cell_type": "code",
   "execution_count": 91,
   "metadata": {
    "collapsed": true
   },
   "outputs": [],
   "source": [
    "#sns.barplot(x = 'converted', y= 'city', data = cleaned_data_dropna)"
   ]
  },
  {
   "cell_type": "markdown",
   "metadata": {},
   "source": [
    "There are too many cities to really see which ones make a difference from the plots, but it's clear that marginally it does seem to make a difference. Would be interesting to see what happens when we control for other factors. Now we separate time by hour and days by week."
   ]
  },
  {
   "cell_type": "code",
   "execution_count": 92,
   "metadata": {
    "collapsed": true,
    "scrolled": false
   },
   "outputs": [],
   "source": [
    "date_object = []\n",
    "day_object = []\n",
    "hour_object = []\n",
    "holidays_object = []\n",
    "for x in cleaned_data_dropna['timestamp']:\n",
    "    try: \n",
    "        date_object.append(datetime.strptime(x, '%Y-%m-%d %H:%M:%S').date())\n",
    "        hour_object.append(datetime.strptime(x, '%Y-%m-%d %H:%M:%S').hour)\n",
    "        day_object.append(datetime.strptime(x, '%Y-%m-%d %H:%M:%S').weekday())\n",
    "        holidays_object.append(1.0*(datetime.strptime(x, '%Y-%m-%d %H:%M:%S').date() in us_holidays))\n",
    "    except ValueError:\n",
    "        date_object.append('NaN')\n",
    "        hour_object.append('NaN')\n",
    "        day_object.append('NaN')\n",
    "        holidays_object.append('Nan')"
   ]
  },
  {
   "cell_type": "code",
   "execution_count": 93,
   "metadata": {
    "collapsed": true,
    "scrolled": false
   },
   "outputs": [],
   "source": [
    "cleaned_data_dropna['Date'] = pd.to_datetime(pd.Series(date_object)).values\n",
    "cleaned_data_dropna['Day'] = pd.Series(day_object).values\n",
    "cleaned_data_dropna['Hour'] = pd.Series(hour_object).values\n",
    "cleaned_data_dropna['Holidays'] = pd.Series(holidays_object).values"
   ]
  },
  {
   "cell_type": "code",
   "execution_count": 94,
   "metadata": {
    "collapsed": true
   },
   "outputs": [],
   "source": [
    "cleaned_data_dropna = cleaned_data_dropna.dropna(axis = 0)"
   ]
  },
  {
   "cell_type": "code",
   "execution_count": 95,
   "metadata": {},
   "outputs": [
    {
     "name": "stdout",
     "output_type": "stream",
     "text": [
      "110306\n",
      "195869\n"
     ]
    }
   ],
   "source": [
    "print(sum(cleaned_data_dropna['test']==1))\n",
    "print(sum(cleaned_data_dropna['test']==0))"
   ]
  },
  {
   "cell_type": "code",
   "execution_count": 96,
   "metadata": {
    "collapsed": true
   },
   "outputs": [],
   "source": [
    "def getXy(cleaned_data_dropna):\n",
    "    X = pd.get_dummies(cleaned_data_dropna['Day'], prefix='Day', prefix_sep='_', drop_first=True)\n",
    "    X = pd.concat([X,pd.get_dummies(cleaned_data_dropna['Hour'], prefix='Hour', prefix_sep='_', drop_first=True)], axis = 1)\n",
    "    X = pd.concat([X,pd.get_dummies(cleaned_data_dropna['source'], prefix='source', prefix_sep='_',drop_first=True)], axis = 1)\n",
    "    X = pd.concat([X,pd.get_dummies(cleaned_data_dropna['device'], prefix='device', prefix_sep='_',drop_first=True)], axis = 1)\n",
    "    X = pd.concat([X,pd.get_dummies(cleaned_data_dropna['operative_system'], prefix='operative_system', prefix_sep='_',drop_first=True)], axis = 1)\n",
    "    X = pd.concat([X,pd.get_dummies(cleaned_data_dropna['operative_system'], prefix='operative_system', prefix_sep='_',drop_first=True)], axis = 1)\n",
    "    X = pd.concat([X,cleaned_data_dropna['test']], axis = 1)\n",
    "    #X = pd.concat([X,pd.get_dummies(cleaned_data_dropna['city'], prefix='city', prefix_sep='_',drop_first=True)], axis = 1)\n",
    "    X = pd.concat([X,cleaned_data_dropna['Holidays']], axis = 1)  \n",
    "    y = cleaned_data_dropna['converted']\n",
    "    return (X,y)"
   ]
  },
  {
   "cell_type": "code",
   "execution_count": 97,
   "metadata": {
    "collapsed": true
   },
   "outputs": [],
   "source": [
    "Xy = getXy(cleaned_data_dropna)\n",
    "X = Xy[0]\n",
    "y = Xy[1]"
   ]
  },
  {
   "cell_type": "markdown",
   "metadata": {},
   "source": [
    "We will check two types of independent variable. The first is through revenue, which is basically, the price\\*conversion while the second is conversion. Since we mostly care about interpretability, we will stick t simple models like the linear regression and logistic regression.  "
   ]
  },
  {
   "cell_type": "code",
   "execution_count": 98,
   "metadata": {},
   "outputs": [
    {
     "name": "stdout",
     "output_type": "stream",
     "text": [
      "[134883 281761  77360 ...,  74010   9739 114239]\n",
      "Int64Index([     7,     13,     46,     78,    107,    295,    355,    403,\n",
      "               420,    457,\n",
      "            ...\n",
      "            316155, 316280, 316349, 316404, 316449, 316474, 316504, 316561,\n",
      "            316657, 316753],\n",
      "           dtype='int64', length=5615)\n"
     ]
    }
   ],
   "source": [
    "np.random.seed(1)\n",
    "indx = np.random.choice(y[y==0].index,size = sum(y!=0))\n",
    "indx2 = y[y!=0].index\n",
    "print(indx)\n",
    "print(indx2) "
   ]
  },
  {
   "cell_type": "code",
   "execution_count": 99,
   "metadata": {
    "collapsed": true
   },
   "outputs": [],
   "source": [
    "y_red = pd.concat([y.loc[indx],y.loc[indx2]])\n",
    "X_red = pd.concat([X.loc[indx],X.loc[indx2]])"
   ]
  },
  {
   "cell_type": "code",
   "execution_count": 100,
   "metadata": {
    "scrolled": true
   },
   "outputs": [
    {
     "name": "stdout",
     "output_type": "stream",
     "text": [
      "Warning: Maximum number of iterations has been exceeded.\n",
      "         Current function value: 0.670062\n",
      "         Iterations: 35\n"
     ]
    },
    {
     "name": "stderr",
     "output_type": "stream",
     "text": [
      "/anaconda/lib/python3.6/site-packages/statsmodels/base/model.py:496: ConvergenceWarning: Maximum Likelihood optimization failed to converge. Check mle_retvals\n",
      "  \"Check mle_retvals\", ConvergenceWarning)\n"
     ]
    }
   ],
   "source": [
    "logit = sm.Logit(y_red, X_red.astype(float))\n",
    "result = logit.fit()"
   ]
  },
  {
   "cell_type": "code",
   "execution_count": 101,
   "metadata": {
    "scrolled": true
   },
   "outputs": [
    {
     "name": "stdout",
     "output_type": "stream",
     "text": [
      "                           Logit Regression Results                           \n",
      "==============================================================================\n",
      "Dep. Variable:              converted   No. Observations:                11230\n",
      "Model:                          Logit   Df Residuals:                    11182\n",
      "Method:                           MLE   Df Model:                           47\n",
      "Date:                Tue, 11 Jul 2017   Pseudo R-squ.:                 0.03330\n",
      "Time:                        00:48:12   Log-Likelihood:                -7524.8\n",
      "converged:                      False   LL-Null:                       -7784.0\n",
      "                                        LLR p-value:                 1.072e-80\n",
      "============================================================================================\n",
      "                               coef    std err          z      P>|z|      [0.025      0.975]\n",
      "--------------------------------------------------------------------------------------------\n",
      "Day_1                       -0.1496      0.110     -1.364      0.172      -0.365       0.065\n",
      "Day_2                       -0.0357      0.110     -0.325      0.745      -0.251       0.180\n",
      "Day_3                       -0.0418      0.093     -0.447      0.655      -0.225       0.141\n",
      "Day_4                       -0.0615      0.083     -0.745      0.456      -0.223       0.100\n",
      "Day_5                       -0.0853      0.084     -1.012      0.312      -0.251       0.080\n",
      "Day_6                       -0.0512      0.087     -0.588      0.557      -0.222       0.120\n",
      "Hour_1                      -0.7168      0.166     -4.315      0.000      -1.042      -0.391\n",
      "Hour_2                      -0.5218      0.165     -3.163      0.002      -0.845      -0.198\n",
      "Hour_3                      -0.6548      0.176     -3.715      0.000      -1.000      -0.309\n",
      "Hour_4                      -0.1112      0.169     -0.657      0.511      -0.443       0.220\n",
      "Hour_5                      -0.7076      0.182     -3.893      0.000      -1.064      -0.351\n",
      "Hour_6                      -0.4554      0.175     -2.603      0.009      -0.798      -0.112\n",
      "Hour_7                      -0.3627      0.142     -2.556      0.011      -0.641      -0.085\n",
      "Hour_8                      -0.3158      0.123     -2.574      0.010      -0.556      -0.075\n",
      "Hour_9                      -0.3365      0.121     -2.776      0.006      -0.574      -0.099\n",
      "Hour_10                     -0.4602      0.116     -3.982      0.000      -0.687      -0.234\n",
      "Hour_11                     -0.4889      0.113     -4.335      0.000      -0.710      -0.268\n",
      "Hour_12                     -0.4802      0.110     -4.377      0.000      -0.695      -0.265\n",
      "Hour_13                     -0.4498      0.126     -3.556      0.000      -0.698      -0.202\n",
      "Hour_14                     -0.4035      0.125     -3.219      0.001      -0.649      -0.158\n",
      "Hour_15                     -0.5145      0.126     -4.095      0.000      -0.761      -0.268\n",
      "Hour_16                     -0.4250      0.126     -3.381      0.001      -0.671      -0.179\n",
      "Hour_17                     -0.4378      0.126     -3.472      0.001      -0.685      -0.191\n",
      "Hour_18                     -0.4325      0.126     -3.426      0.001      -0.680      -0.185\n",
      "Hour_19                     -0.2945      0.172     -1.707      0.088      -0.633       0.044\n",
      "Hour_20                     -0.5244      0.172     -3.046      0.002      -0.862      -0.187\n",
      "Hour_21                     -0.6368      0.173     -3.677      0.000      -0.976      -0.297\n",
      "Hour_22                     -0.6503      0.171     -3.813      0.000      -0.985      -0.316\n",
      "Hour_23                     -0.5452      0.171     -3.195      0.001      -0.880      -0.211\n",
      "source_ads-google            0.5814      0.084      6.932      0.000       0.417       0.746\n",
      "source_ads-yahoo             0.1679      0.150      1.117      0.264      -0.127       0.462\n",
      "source_ads_facebook          0.5288      0.085      6.235      0.000       0.363       0.695\n",
      "source_ads_other             0.1005      0.098      1.030      0.303      -0.091       0.292\n",
      "source_direct_traffic        0.0106      0.087      0.122      0.903      -0.161       0.182\n",
      "source_friend_referral       1.1650      0.097     12.039      0.000       0.975       1.355\n",
      "source_seo-bing              0.7015      0.235      2.984      0.003       0.241       1.162\n",
      "source_seo-google            0.3723      0.103      3.630      0.000       0.171       0.573\n",
      "source_seo-other             0.1573      0.134      1.172      0.241      -0.106       0.420\n",
      "source_seo-yahoo             0.1755      0.150      1.169      0.243      -0.119       0.470\n",
      "source_seo_facebook          0.2480      0.105      2.358      0.018       0.042       0.454\n",
      "device_web                 -14.6733   1424.035     -0.010      0.992   -2805.732    2776.385\n",
      "operative_system_iOS         0.2129   2.91e+05   7.32e-07      1.000    -5.7e+05     5.7e+05\n",
      "operative_system_linux       7.1140   1.98e+07    3.6e-07      1.000   -3.87e+07    3.87e+07\n",
      "operative_system_mac         7.6014   4.42e+06   1.72e-06      1.000   -8.66e+06    8.66e+06\n",
      "operative_system_other      -0.0825      7e+06  -1.18e-08      1.000   -1.37e+07    1.37e+07\n",
      "operative_system_windows     7.3770   1.26e+06   5.87e-06      1.000   -2.46e+06    2.46e+06\n",
      "operative_system_iOS         0.2129   2.91e+05   7.32e-07      1.000    -5.7e+05     5.7e+05\n",
      "operative_system_linux       7.1140   1.98e+07    3.6e-07      1.000   -3.87e+07    3.87e+07\n",
      "operative_system_mac         7.6014   4.42e+06   1.72e-06      1.000   -8.66e+06    8.66e+06\n",
      "operative_system_other      -0.0825      7e+06  -1.18e-08      1.000   -1.37e+07    1.37e+07\n",
      "operative_system_windows     7.3770   1.26e+06   5.87e-06      1.000   -2.46e+06    2.46e+06\n",
      "test                        -0.2668      0.041     -6.503      0.000      -0.347      -0.186\n",
      "Holidays                     0.3167      0.319      0.992      0.321      -0.309       0.942\n",
      "============================================================================================\n"
     ]
    }
   ],
   "source": [
    "print(result.summary())"
   ]
  },
  {
   "cell_type": "markdown",
   "metadata": {},
   "source": [
    "Controlling for all variables, it seems as if test has a negative effect. Hence, conversion goes down if we get the higher price, which was expected. Amongst the other factors that were psotive and statsitically significant were source_seo-google, source_ads_facebook, source_friend_referral, source_seo-bing compared to bing ads, which was the base case scenario. Also some of the times are significant and these seem to have a negative effect compared to the base case which is around between midnight and 1:00 am. Hence we should not increase the prices as that leads to lower conversions. One thing we should check is whether this may actually lead to lower revenues. Suppose we have a fixed number of possible converions. Then it makes sense to go with the higher price if 59\\*p_1 > 39\\*p_2, where p_1 is the probablity of being in the test group and p_2 is the probability of being in the control group. Hence if p_1/p_2 > 0.39/0.59, we should go with the higher price. "
   ]
  },
  {
   "cell_type": "code",
   "execution_count": 102,
   "metadata": {
    "collapsed": true
   },
   "outputs": [],
   "source": [
    "y_pred = pd.DataFrame(result.predict(X_red.astype(float)))"
   ]
  },
  {
   "cell_type": "markdown",
   "metadata": {},
   "source": [
    "Note that for \\$59 option to be worthwhile, we would need 59*p_1 > 39*p_2, where p_1 is the proportion of people converting in the test group while p_2 is the proportion of people converting in the control group. It's difficult to get good estimates for these using the model we have uses thus far. What we can consider in this case is dividing up the experiment into different factions and looking at these individually. We will only consider the scenario where the source is seo-google. Since time was the oher significant factor, we should also consider those, but for now I'll ignore that. Going back to the problem now, we need p_1/p_2 > 0.39/0.59 = 0.661. What I'll do is build a confidence interval for the risk ratio to check if this is indeed true. Otherwise, it makes sense to just stick to the original price of \\$39."
   ]
  },
  {
   "cell_type": "code",
   "execution_count": 103,
   "metadata": {
    "scrolled": true
   },
   "outputs": [],
   "source": [
    "def rrCI(x1,x2,n1,n2, alpha):\n",
    "    z = norm.ppf(1-alpha/2)\n",
    "    p1 = x1*1.0/n1\n",
    "    p2 = x2*1.0/n2\n",
    "    rr = p1/p2\n",
    "    se = np.sqrt((n1-x1)/(x1*n1) + (n2-x2)/(x2*n2))\n",
    "    lb = np.exp(np.log(rr) - z*se)\n",
    "    ub = np.exp(np.log(rr) + z*se)\n",
    "    return (lb,ub)"
   ]
  },
  {
   "cell_type": "code",
   "execution_count": 104,
   "metadata": {},
   "outputs": [],
   "source": [
    "def rrBySource(source):\n",
    "    cleaned_data_dropna_seo_google = cleaned_data_dropna[cleaned_data_dropna['source']==source]\n",
    "    x1 = sum(cleaned_data_dropna_seo_google[cleaned_data_dropna_seo_google['test']==1]['converted']==1)\n",
    "    n1 = len(cleaned_data_dropna_seo_google[cleaned_data_dropna_seo_google['test']==1])\n",
    "    x2 = sum(cleaned_data_dropna_seo_google[cleaned_data_dropna_seo_google['test']==0]['converted']==1)\n",
    "    n2 = len(cleaned_data_dropna_seo_google[cleaned_data_dropna_seo_google['test']==0])\n",
    "    return rrCI(x1,x2,n1,n2,0.05)"
   ]
  },
  {
   "cell_type": "code",
   "execution_count": 105,
   "metadata": {},
   "outputs": [
    {
     "name": "stdout",
     "output_type": "stream",
     "text": [
      "ads_facebook (0.62007929938054929, 0.80385240138704961)\n",
      "---------------\n",
      "seo-google (0.72865674991379048, 1.1130292819834153)\n",
      "---------------\n",
      "ads-bing (0.58089333342541516, 0.98055399716351155)\n",
      "---------------\n",
      "direct_traffic (0.64912285446554996, 0.89242610415642909)\n",
      "---------------\n",
      "ads-google (0.76836467724086432, 0.9721940292743767)\n",
      "---------------\n",
      "seo_facebook (0.6247512569410798, 0.99150698935832116)\n",
      "---------------\n",
      "friend_referral (0.69457442573481254, 0.93466478688659405)\n",
      "---------------\n",
      "ads_other (0.63318370797377577, 0.96338745611808563)\n",
      "---------------\n",
      "ads-yahoo (0.40823311959342246, 0.96451046272834207)\n",
      "---------------\n",
      "seo-yahoo (0.34221784698585089, 0.83329481930016691)\n",
      "---------------\n",
      "seo-bing (0.2393119402968219, 0.90516510686515439)\n",
      "---------------\n",
      "seo-other (0.50415073524483622, 1.0290428361963566)\n",
      "---------------\n"
     ]
    }
   ],
   "source": [
    "for x in cleaned_data_dropna['source'].unique():\n",
    "    print(x,rrBySource(x))\n",
    "    print('---------------')"
   ]
  },
  {
   "cell_type": "markdown",
   "metadata": {},
   "source": [
    "Focusing on just the source, we can see that we have the desired range to switch to the increased price on seo-google, ads-google and friend_referral. For the other categories, it really doesn't make sense to switch."
   ]
  }
 ],
 "metadata": {
  "kernelspec": {
   "display_name": "Python 3",
   "language": "python",
   "name": "python3"
  },
  "language_info": {
   "codemirror_mode": {
    "name": "ipython",
    "version": 3
   },
   "file_extension": ".py",
   "mimetype": "text/x-python",
   "name": "python",
   "nbconvert_exporter": "python",
   "pygments_lexer": "ipython3",
   "version": "3.6.1"
  }
 },
 "nbformat": 4,
 "nbformat_minor": 2
}

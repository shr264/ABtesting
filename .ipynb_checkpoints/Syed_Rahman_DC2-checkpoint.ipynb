{
 "cells": [
  {
   "cell_type": "markdown",
   "metadata": {},
   "source": [
    "We want to understand whether company XYZ should sell the product at the higher(\\$59) or lower price(\\$39). In addition we would like to understand what factors increase conversion rate. Finally, we will try to understand whether it is possible to step the testing early."
   ]
  },
  {
   "cell_type": "code",
   "execution_count": 91,
   "metadata": {},
   "outputs": [
    {
     "ename": "ModuleNotFoundError",
     "evalue": "No module named 'holidays'",
     "output_type": "error",
     "traceback": [
      "\u001b[0;31m---------------------------------------------------------------------------\u001b[0m",
      "\u001b[0;31mModuleNotFoundError\u001b[0m                       Traceback (most recent call last)",
      "\u001b[0;32m<ipython-input-91-c68837fcc3b6>\u001b[0m in \u001b[0;36m<module>\u001b[0;34m()\u001b[0m\n\u001b[1;32m      9\u001b[0m \u001b[0;32mimport\u001b[0m \u001b[0mdatetime\u001b[0m \u001b[0;32mas\u001b[0m \u001b[0mdt\u001b[0m\u001b[0;34m\u001b[0m\u001b[0m\n\u001b[1;32m     10\u001b[0m \u001b[0;32mfrom\u001b[0m \u001b[0mdatetime\u001b[0m \u001b[0;32mimport\u001b[0m \u001b[0mdatetime\u001b[0m\u001b[0;34m\u001b[0m\u001b[0m\n\u001b[0;32m---> 11\u001b[0;31m \u001b[0;32mimport\u001b[0m \u001b[0mholidays\u001b[0m\u001b[0;34m\u001b[0m\u001b[0m\n\u001b[0m",
      "\u001b[0;31mModuleNotFoundError\u001b[0m: No module named 'holidays'"
     ]
    }
   ],
   "source": [
    "%matplotlib inline\n",
    "import numpy as np\n",
    "import pandas as pd\n",
    "import os \n",
    "os.chdir('/Users/syedrahman/Documents/Summer2017/Insight/DataChallenge2')\n",
    "import matplotlib.pyplot as plt \n",
    "plt.style.use('ggplot')\n",
    "import seaborn as sns\n",
    "import datetime as dt\n",
    "from datetime import datetime\n",
    "import holidays"
   ]
  },
  {
   "cell_type": "code",
   "execution_count": 3,
   "metadata": {
    "collapsed": true
   },
   "outputs": [],
   "source": [
    "test_data = pd.read_csv('test_results.csv')"
   ]
  },
  {
   "cell_type": "code",
   "execution_count": 5,
   "metadata": {},
   "outputs": [],
   "source": [
    "user_data = pd.read_csv('user_table.csv')"
   ]
  },
  {
   "cell_type": "code",
   "execution_count": 24,
   "metadata": {},
   "outputs": [
    {
     "data": {
      "text/plain": [
       "(316800, 8)"
      ]
     },
     "execution_count": 24,
     "metadata": {},
     "output_type": "execute_result"
    }
   ],
   "source": [
    "test_data.shape"
   ]
  },
  {
   "cell_type": "code",
   "execution_count": 25,
   "metadata": {},
   "outputs": [
    {
     "data": {
      "text/plain": [
       "(275616, 5)"
      ]
     },
     "execution_count": 25,
     "metadata": {},
     "output_type": "execute_result"
    }
   ],
   "source": [
    "user_data.shape"
   ]
  },
  {
   "cell_type": "code",
   "execution_count": 21,
   "metadata": {},
   "outputs": [],
   "source": [
    "data = test_data.merge(user_data, how = 'left', on = 'user_id')"
   ]
  },
  {
   "cell_type": "markdown",
   "metadata": {},
   "source": [
    "First we check for any null values"
   ]
  },
  {
   "cell_type": "code",
   "execution_count": 23,
   "metadata": {},
   "outputs": [
    {
     "data": {
      "text/plain": [
       "(316800, 12)"
      ]
     },
     "execution_count": 23,
     "metadata": {},
     "output_type": "execute_result"
    }
   ],
   "source": [
    "data.shape"
   ]
  },
  {
   "cell_type": "code",
   "execution_count": 22,
   "metadata": {},
   "outputs": [
    {
     "data": {
      "text/plain": [
       "user_id                 0\n",
       "timestamp               0\n",
       "source                  0\n",
       "device                  0\n",
       "operative_system        0\n",
       "test                    0\n",
       "price                   0\n",
       "converted               0\n",
       "city                41184\n",
       "country             41184\n",
       "lat                 41184\n",
       "long                41184\n",
       "dtype: int64"
      ]
     },
     "execution_count": 22,
     "metadata": {},
     "output_type": "execute_result"
    }
   ],
   "source": [
    "pd.isnull(data).apply(sum, axis = 0)"
   ]
  },
  {
   "cell_type": "code",
   "execution_count": 11,
   "metadata": {},
   "outputs": [
    {
     "data": {
      "text/plain": [
       "user_id             0\n",
       "timestamp           0\n",
       "source              0\n",
       "device              0\n",
       "operative_system    0\n",
       "test                0\n",
       "price               0\n",
       "converted           0\n",
       "dtype: int64"
      ]
     },
     "execution_count": 11,
     "metadata": {},
     "output_type": "execute_result"
    }
   ],
   "source": [
    "pd.isnull(test_data).apply(sum, axis = 0)"
   ]
  },
  {
   "cell_type": "markdown",
   "metadata": {},
   "source": [
    "Looks like a lot of the users_id's in the test set is not in the user_data. We will try several different approaches here. The first is to discard the rows where we don't have location information. If location proves to be useful, we can stop there. Or we can impute data based on the other data points. Finally, if location doesn't prove important, we can just focus on the test_data. Let's look at some plots first to see if the data is encoded properly. "
   ]
  },
  {
   "cell_type": "code",
   "execution_count": 30,
   "metadata": {},
   "outputs": [
    {
     "data": {
      "image/png": "[encoded data removed]",
      "text/plain": [
       "<matplotlib.figure.Figure at 0x1195f4a20>"
      ]
     },
     "metadata": {},
     "output_type": "display_data"
    }
   ],
   "source": [
    "ax = sns.regplot(x=\"price\", y=\"test\", data=data)"
   ]
  },
  {
   "cell_type": "markdown",
   "metadata": {},
   "source": [
    "Seems like some point in the test have prices of 39, while some points in control have prices of 59. We have to discard these mislabeled points."
   ]
  },
  {
   "cell_type": "code",
   "execution_count": 43,
   "metadata": {},
   "outputs": [],
   "source": [
    "cleaned_data = data[(data['test']==1) & (data['price']==59) | (data['test']==0) & (data['price']==39)]"
   ]
  },
  {
   "cell_type": "code",
   "execution_count": 44,
   "metadata": {
    "collapsed": true
   },
   "outputs": [],
   "source": [
    "cleaned_data_dropna = cleaned_data.dropna(axis=0)"
   ]
  },
  {
   "cell_type": "markdown",
   "metadata": {},
   "source": [
    "Now we separate time by hour and "
   ]
  },
  {
   "cell_type": "code",
   "execution_count": 89,
   "metadata": {
    "scrolled": false
   },
   "outputs": [],
   "source": [
    "date_object = []\n",
    "day_object = []\n",
    "hour_object = []\n",
    "for x in cleaned_data_dropna['timestamp']:\n",
    "    try: \n",
    "        date_object.append(datetime.strptime(x, '%Y-%m-%d %H:%M:%S').date())\n",
    "        hour_object.append(datetime.strptime(x, '%Y-%m-%d %H:%M:%S').hour)\n",
    "        day_object.append(datetime.strptime(x, '%Y-%m-%d %H:%M:%S').weekday())\n",
    "    except ValueError:\n",
    "        date_object.append('NaN')\n",
    "        hour_object.append('NaN')\n",
    "        day_object.append('NaN')\n",
    "                           \n",
    "for x in cleaned_data_dropna['timestamp']:\n",
    "    try: \n",
    "        hour_object.append(datetime.strptime(x, '%Y-%m-%d %H:%M:%S').hour)\n",
    "    except ValueError:\n",
    "        hour_object.append('NaN')\n",
    "        \n",
    "for x in cleaned_data_dropna['timestamp']:\n",
    "    try: \n",
    "        day_object.append(datetime.strptime(x, '%Y-%m-%d %H:%M:%S').weekday())\n",
    "    except ValueError:\n",
    "        day_object.append('NaN')"
   ]
  },
  {
   "cell_type": "code",
   "execution_count": 90,
   "metadata": {
    "collapsed": true
   },
   "outputs": [],
   "source": [
    "date_object = []\n",
    "day_object = []\n",
    "hour_object = []\n",
    "for x in cleaned_data_dropna['timestamp']:\n",
    "    try: \n",
    "        date_object.append(datetime.strptime(x, '%Y-%m-%d %H:%M:%S').date())\n",
    "        hour_object.append(datetime.strptime(x, '%Y-%m-%d %H:%M:%S').hour)\n",
    "        day_object.append(datetime.strptime(x, '%Y-%m-%d %H:%M:%S').weekday())\n",
    "    except ValueError:\n",
    "        date_object.append('NaN')\n",
    "        hour_object.append('NaN')\n",
    "        day_object.append('NaN')"
   ]
  },
  {
   "cell_type": "code",
   "execution_count": 86,
   "metadata": {},
   "outputs": [
    {
     "name": "stderr",
     "output_type": "stream",
     "text": [
      "/anaconda/lib/python3.6/site-packages/ipykernel_launcher.py:1: SettingWithCopyWarning: \n",
      "A value is trying to be set on a copy of a slice from a DataFrame.\n",
      "Try using .loc[row_indexer,col_indexer] = value instead\n",
      "\n",
      "See the caveats in the documentation: http://pandas.pydata.org/pandas-docs/stable/indexing.html#indexing-view-versus-copy\n",
      "  \"\"\"Entry point for launching an IPython kernel.\n"
     ]
    }
   ],
   "source": [
    "cleaned_data_dropna['Date'] = pd.to_datetime(pd.Series(date_object))\n",
    "cleaned_data_dropna['Day'] = pd.to_datetime(pd.Series(day_object))"
   ]
  },
  {
   "cell_type": "code",
   "execution_count": 87,
   "metadata": {},
   "outputs": [
    {
     "data": {
      "text/plain": [
       "0        2015-05-08\n",
       "1        2015-05-10\n",
       "2        2015-04-04\n",
       "3        2015-05-07\n",
       "4        2015-05-24\n",
       "5        2015-04-13\n",
       "7        2015-03-28\n",
       "8        2015-04-24\n",
       "9        2015-04-17\n",
       "10       2015-05-15\n",
       "11       2015-03-21\n",
       "13       2015-03-22\n",
       "14       2015-03-16\n",
       "15       2015-03-08\n",
       "16       2015-03-28\n",
       "17       2015-03-04\n",
       "18       2015-04-04\n",
       "19       2015-05-31\n",
       "20       2015-05-16\n",
       "22       2015-03-28\n",
       "23       2015-04-25\n",
       "24       2015-05-31\n",
       "25       2015-03-22\n",
       "26       2015-03-15\n",
       "27       2015-05-23\n",
       "28       2015-04-17\n",
       "29       2015-05-01\n",
       "30       2015-04-17\n",
       "31       2015-05-01\n",
       "32       2015-03-19\n",
       "            ...    \n",
       "316766          NaT\n",
       "316767          NaT\n",
       "316768          NaT\n",
       "316769          NaT\n",
       "316770          NaT\n",
       "316771          NaT\n",
       "316772          NaT\n",
       "316773          NaT\n",
       "316774          NaT\n",
       "316775          NaT\n",
       "316776          NaT\n",
       "316777          NaT\n",
       "316778          NaT\n",
       "316779          NaT\n",
       "316780          NaT\n",
       "316781          NaT\n",
       "316782          NaT\n",
       "316783          NaT\n",
       "316784          NaT\n",
       "316785          NaT\n",
       "316787          NaT\n",
       "316789          NaT\n",
       "316790          NaT\n",
       "316791          NaT\n",
       "316793          NaT\n",
       "316794          NaT\n",
       "316796          NaT\n",
       "316797          NaT\n",
       "316798          NaT\n",
       "316799          NaT\n",
       "Name: Date, Length: 275294, dtype: datetime64[ns]"
      ]
     },
     "execution_count": 87,
     "metadata": {},
     "output_type": "execute_result"
    }
   ],
   "source": [
    "cleaned_data_dropna['Date'] "
   ]
  },
  {
   "cell_type": "code",
   "execution_count": null,
   "metadata": {
    "collapsed": true
   },
   "outputs": [],
   "source": []
  },
  {
   "cell_type": "code",
   "execution_count": null,
   "metadata": {
    "collapsed": true
   },
   "outputs": [],
   "source": []
  },
  {
   "cell_type": "code",
   "execution_count": null,
   "metadata": {
    "collapsed": true
   },
   "outputs": [],
   "source": []
  },
  {
   "cell_type": "code",
   "execution_count": null,
   "metadata": {
    "collapsed": true
   },
   "outputs": [],
   "source": []
  },
  {
   "cell_type": "code",
   "execution_count": null,
   "metadata": {
    "collapsed": true
   },
   "outputs": [],
   "source": []
  },
  {
   "cell_type": "code",
   "execution_count": null,
   "metadata": {
    "collapsed": true
   },
   "outputs": [],
   "source": []
  }
 ],
 "metadata": {
  "kernelspec": {
   "display_name": "Python 3",
   "language": "python",
   "name": "python3"
  },
  "language_info": {
   "codemirror_mode": {
    "name": "ipython",
    "version": 3
   },
   "file_extension": ".py",
   "mimetype": "text/x-python",
   "name": "python",
   "nbconvert_exporter": "python",
   "pygments_lexer": "ipython3",
   "version": "3.6.1"
  }
 },
 "nbformat": 4,
 "nbformat_minor": 2
}
